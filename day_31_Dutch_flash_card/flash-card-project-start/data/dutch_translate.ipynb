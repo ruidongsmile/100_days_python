{
 "cells": [
  {
   "cell_type": "code",
   "execution_count": 148,
   "id": "d614e610",
   "metadata": {},
   "outputs": [],
   "source": [
    "import pandas as pd"
   ]
  },
  {
   "cell_type": "code",
   "execution_count": 149,
   "id": "299e5bb9",
   "metadata": {},
   "outputs": [],
   "source": [
    "with open(\"wiki_dutch_5k.csv\") as file:\n",
    "    lines_1 = file.readlines()"
   ]
  },
  {
   "cell_type": "code",
   "execution_count": 150,
   "id": "8d472efb",
   "metadata": {},
   "outputs": [],
   "source": [
    "with open(\"wiki_dutch.csv\") as file:\n",
    "    lines_2 = file.readlines()"
   ]
  },
  {
   "cell_type": "code",
   "execution_count": 151,
   "id": "ce7ca4c7",
   "metadata": {},
   "outputs": [
    {
     "data": {
      "text/plain": [
       "4624"
      ]
     },
     "execution_count": 151,
     "metadata": {},
     "output_type": "execute_result"
    }
   ],
   "source": [
    "len(lines_1)"
   ]
  },
  {
   "cell_type": "code",
   "execution_count": 152,
   "id": "3e8fb297",
   "metadata": {},
   "outputs": [
    {
     "data": {
      "text/plain": [
       "4624"
      ]
     },
     "execution_count": 152,
     "metadata": {},
     "output_type": "execute_result"
    }
   ],
   "source": [
    "len(lines_2)"
   ]
  },
  {
   "cell_type": "code",
   "execution_count": 131,
   "id": "c56c0cff",
   "metadata": {},
   "outputs": [
    {
     "data": {
      "text/plain": [
       "['Dutch,English\\n',\n",
       " 'ik,I\\n',\n",
       " 'je,you\\n',\n",
       " 'het,the  \\n',\n",
       " 'de,the\\n',\n",
       " 'dat,Which\\n',\n",
       " 'is,is\\n',\n",
       " 'een,a\\n',\n",
       " 'niet,not \\n',\n",
       " 'en,and\\n']"
      ]
     },
     "execution_count": 131,
     "metadata": {},
     "output_type": "execute_result"
    }
   ],
   "source": [
    "lines_1[:10]"
   ]
  },
  {
   "cell_type": "code",
   "execution_count": 132,
   "id": "6fbf3bbb",
   "metadata": {},
   "outputs": [
    {
     "data": {
      "text/plain": [
       "['0\\n',\n",
       " 'ik\\n',\n",
       " 'je\\n',\n",
       " 'het\\n',\n",
       " 'de\\n',\n",
       " 'dat\\n',\n",
       " 'is\\n',\n",
       " 'een\\n',\n",
       " 'niet\\n',\n",
       " 'en\\n']"
      ]
     },
     "execution_count": 132,
     "metadata": {},
     "output_type": "execute_result"
    }
   ],
   "source": [
    "lines_2[:10]"
   ]
  },
  {
   "cell_type": "code",
   "execution_count": 134,
   "id": "5d86421a",
   "metadata": {},
   "outputs": [],
   "source": [
    "data = [['Dutch', 'English']]\n",
    "for i in range(1, n):\n",
    "    dutch_word = lines_2[i][:-1]\n",
    "    line_list = lines_1[i].split(\",\")\n",
    "    line_list[0] = dutch_word\n",
    "    line_list[1] = line_list[1].rstrip()\n",
    "    data.append(line_list)"
   ]
  },
  {
   "cell_type": "code",
   "execution_count": 135,
   "id": "0ebd5aca",
   "metadata": {},
   "outputs": [
    {
     "data": {
      "text/plain": [
       "[['Dutch', 'English'],\n",
       " ['ik', 'I'],\n",
       " ['je', 'you'],\n",
       " ['het', 'the'],\n",
       " ['de', 'the'],\n",
       " ['dat', 'Which'],\n",
       " ['is', 'is'],\n",
       " ['een', 'a'],\n",
       " ['niet', 'not'],\n",
       " ['en', 'and']]"
      ]
     },
     "execution_count": 135,
     "metadata": {},
     "output_type": "execute_result"
    }
   ],
   "source": [
    "data[:10]"
   ]
  },
  {
   "cell_type": "code",
   "execution_count": 143,
   "id": "ba708c3e",
   "metadata": {},
   "outputs": [],
   "source": [
    "import csv"
   ]
  },
  {
   "cell_type": "code",
   "execution_count": 145,
   "id": "2d8b85bb",
   "metadata": {},
   "outputs": [],
   "source": [
    "with open(\"wiki.csv\", \"w\") as myfile:\n",
    "    wr = csv.writer(myfile)\n",
    "    for line in data:\n",
    "        wr.writerow((line))"
   ]
  },
  {
   "cell_type": "code",
   "execution_count": null,
   "id": "8d80f702",
   "metadata": {},
   "outputs": [],
   "source": []
  }
 ],
 "metadata": {
  "kernelspec": {
   "display_name": "Python 3 (ipykernel)",
   "language": "python",
   "name": "python3"
  },
  "language_info": {
   "codemirror_mode": {
    "name": "ipython",
    "version": 3
   },
   "file_extension": ".py",
   "mimetype": "text/x-python",
   "name": "python",
   "nbconvert_exporter": "python",
   "pygments_lexer": "ipython3",
   "version": "3.10.4"
  }
 },
 "nbformat": 4,
 "nbformat_minor": 5
}
